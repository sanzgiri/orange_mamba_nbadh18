{
 "cells": [
  {
   "cell_type": "code",
   "execution_count": 4,
   "metadata": {
    "colab": {},
    "colab_type": "code",
    "collapsed": true,
    "id": "ojc_ND_5iv6_"
   },
   "outputs": [],
   "source": [
    "#import package\n",
    "import pandas as pd\n",
    "import numpy as np\n",
    "import seaborn as sns\n",
    "import plotly.plotly as py\n",
    "import plotly.graph_objs as go\n",
    "import math\n",
    "from sklearn.cluster import KMeans\n",
    "from sklearn.preprocessing import StandardScaler"
   ]
  },
  {
   "cell_type": "code",
   "execution_count": 106,
   "metadata": {
    "colab": {},
    "colab_type": "code",
    "id": "n_WCFPrLT_aM"
   },
   "outputs": [],
   "source": [
    "df_point_spread = pd.read_csv('point_spread_data.csv') #loads point spread data \n",
    "df_point_spread = df_point_spread[['Unique_Viewers','point_spread','social_engagement','Game']]\n",
    "df_point_spread = df_point_spread.rename(index=str, columns={\"sem\": \"social_engagement\"}) #rename column"
   ]
  },
  {
   "cell_type": "code",
   "execution_count": 112,
   "metadata": {},
   "outputs": [],
   "source": [
    "#drop null values\n",
    "df_point_spread = df_point_spread.dropna()\n",
    "\n",
    "\n",
    "#round data\n",
    "df_point_spread = df_point_spread.round(2)"
   ]
  },
  {
   "cell_type": "code",
   "execution_count": 113,
   "metadata": {},
   "outputs": [
    {
     "name": "stdout",
     "output_type": "stream",
     "text": [
      "High five! You successfully sent some data to your account on plotly. View your plot in your browser at https://plot.ly/~ptruong2009/0 or inside your plot.ly account where it is named '3d-scatter-colorscale'\n"
     ]
    },
    {
     "data": {
      "text/html": [
       "<iframe id=\"igraph\" scrolling=\"no\" style=\"border:none;\" seamless=\"seamless\" src=\"https://plot.ly/~ptruong2009/0.embed\" height=\"525px\" width=\"100%\"></iframe>"
      ],
      "text/plain": [
       "<plotly.tools.PlotlyDisplay object>"
      ]
     },
     "execution_count": 113,
     "metadata": {},
     "output_type": "execute_result"
    }
   ],
   "source": [
    "#Log Transformed 3-D plot with GT_Score, Points_Diff, and Unique_Viewers\n",
    "\n",
    "py.sign_in('ptruong2009', 'jO7Hi2bUOvZhzYEfK2Rn')\n",
    "\n",
    "Unique_Viewers_List = df_point_spread.Unique_Viewers.tolist()\n",
    "df_point_spread.Unique_Viewers = Unique_Viewers_List\n",
    "\n",
    "point_spread_List = df_point_spread.point_spread.tolist()\n",
    "point_spread_List = [float(x)/max(point_spread_List) for x in point_spread_List]\n",
    "df_point_spread.point_spread = point_spread_List\n",
    "\n",
    "sem_List = df_point_spread.social_engagement.tolist()\n",
    "sem_List = [float(x)/max(sem_List) for x in sem_List]\n",
    "df_point_spread.social_engagement = sem_List\n",
    "\n",
    "Game_List = df_point_spread.Game\n",
    "trace1 = go.Scatter3d(\n",
    "    x=sem_List,\n",
    "    y=point_spread_List,\n",
    "    z=Unique_Viewers_List,\n",
    "    text= Game_List,\n",
    "    mode='markers',\n",
    "    marker=dict(\n",
    "        size=12,\n",
    "        color=Unique_Viewers_List, # set color to an array/list of desired values\n",
    "        colorscale='Viridis',   # choose a colorscale\n",
    "        opacity=0.8\n",
    "    )\n",
    ")\n",
    "\n",
    "data = [trace1]\n",
    "layout = go.Layout(\n",
    "    scene = dict(\n",
    "                    xaxis = dict(\n",
    "                        title='Social Engagement Metric Scores'),\n",
    "                    yaxis = dict(\n",
    "                        title='Point Spread'),\n",
    "                    zaxis = dict(\n",
    "                        title='Unique Viewers'),),\n",
    "    margin=dict(\n",
    "        l=0,\n",
    "        r=0,\n",
    "        b=0,\n",
    "        t=0\n",
    "    )\n",
    ")\n",
    "\n",
    "\n",
    "    \n",
    "fig = go.Figure(data=data, layout=layout)\n",
    "py.iplot(fig, filename='3d-scatter-colorscale')\n",
    "\n"
   ]
  },
  {
   "cell_type": "code",
   "execution_count": 109,
   "metadata": {},
   "outputs": [
    {
     "data": {
      "text/html": [
       "<div>\n",
       "<style>\n",
       "    .dataframe thead tr:only-child th {\n",
       "        text-align: right;\n",
       "    }\n",
       "\n",
       "    .dataframe thead th {\n",
       "        text-align: left;\n",
       "    }\n",
       "\n",
       "    .dataframe tbody tr th {\n",
       "        vertical-align: top;\n",
       "    }\n",
       "</style>\n",
       "<table border=\"1\" class=\"dataframe\">\n",
       "  <thead>\n",
       "    <tr style=\"text-align: right;\">\n",
       "      <th></th>\n",
       "      <th>categories</th>\n",
       "      <th>Unique_Viewers</th>\n",
       "      <th>point_spread</th>\n",
       "      <th>social_engagement</th>\n",
       "    </tr>\n",
       "  </thead>\n",
       "  <tbody>\n",
       "    <tr>\n",
       "      <th>0</th>\n",
       "      <td>0</td>\n",
       "      <td>14996.506849</td>\n",
       "      <td>0.353936</td>\n",
       "      <td>0.143012</td>\n",
       "    </tr>\n",
       "    <tr>\n",
       "      <th>1</th>\n",
       "      <td>1</td>\n",
       "      <td>15842.585576</td>\n",
       "      <td>0.147442</td>\n",
       "      <td>0.141485</td>\n",
       "    </tr>\n",
       "    <tr>\n",
       "      <th>2</th>\n",
       "      <td>2</td>\n",
       "      <td>34758.751323</td>\n",
       "      <td>0.335422</td>\n",
       "      <td>0.526704</td>\n",
       "    </tr>\n",
       "    <tr>\n",
       "      <th>3</th>\n",
       "      <td>3</td>\n",
       "      <td>18561.114667</td>\n",
       "      <td>0.634526</td>\n",
       "      <td>0.207982</td>\n",
       "    </tr>\n",
       "  </tbody>\n",
       "</table>\n",
       "</div>"
      ],
      "text/plain": [
       "   categories  Unique_Viewers  point_spread  social_engagement\n",
       "0           0    14996.506849      0.353936           0.143012\n",
       "1           1    15842.585576      0.147442           0.141485\n",
       "2           2    34758.751323      0.335422           0.526704\n",
       "3           3    18561.114667      0.634526           0.207982"
      ]
     },
     "execution_count": 109,
     "metadata": {},
     "output_type": "execute_result"
    }
   ],
   "source": [
    "###Only using point_spread and social_engagement to classify points\n",
    "#fit K-Means clustering Algorithm\n",
    "clf = KMeans(n_clusters=4)#4 clusters\n",
    "df_X = df_point_spread[['point_spread','social_engagement']] #features\n",
    "clf.fit(df_X) #fit model\n",
    "\n",
    "#categorize games\n",
    "categories = clf.predict(df_X)\n",
    "df_point_spread['categories'] = categories\n",
    "\n",
    "#point spread, social engagement metric, and minutes per viewer averages by categories\n",
    "df_point_spread.groupby(\"categories\").mean().reset_index()"
   ]
  },
  {
   "cell_type": "code",
   "execution_count": null,
   "metadata": {
    "collapsed": true
   },
   "outputs": [],
   "source": []
  },
  {
   "cell_type": "code",
   "execution_count": null,
   "metadata": {
    "collapsed": true
   },
   "outputs": [],
   "source": []
  }
 ],
 "metadata": {
  "colab": {
   "collapsed_sections": [],
   "name": "Game_Feature_Vectors.ipynb",
   "provenance": [],
   "version": "0.3.2"
  },
  "kernelspec": {
   "display_name": "Python 3",
   "language": "python",
   "name": "python3"
  },
  "language_info": {
   "codemirror_mode": {
    "name": "ipython",
    "version": 3
   },
   "file_extension": ".py",
   "mimetype": "text/x-python",
   "name": "python",
   "nbconvert_exporter": "python",
   "pygments_lexer": "ipython3",
   "version": "3.6.1"
  }
 },
 "nbformat": 4,
 "nbformat_minor": 1
}
