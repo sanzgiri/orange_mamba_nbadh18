{
 "cells": [
  {
   "cell_type": "code",
   "execution_count": 35,
   "metadata": {
    "colab": {},
    "colab_type": "code",
    "collapsed": true,
    "id": "ojc_ND_5iv6_"
   },
   "outputs": [],
   "source": [
    "#import packages\n",
    "import pandas as pd\n",
    "import numpy as np\n",
    "import seaborn as sns\n",
    "import plotly.plotly as py\n",
    "import plotly.graph_objs as go\n",
    "import math\n",
    "from sklearn.cluster import KMeans\n",
    "from sklearn.preprocessing import StandardScaler\n",
    "import matplotlib.pyplot as plt\n",
    "from datetime import datetime, timedelta\n",
    "from dateutil import parser\n",
    "import requests\n",
    "from bs4 import BeautifulSoup as Soup\n",
    "from datetime import date, timedelta\n",
    "import datetime \n",
    "import dateutil.relativedelta\n",
    "from dateutil.relativedelta import relativedelta\n",
    "from datetime import datetime"
   ]
  },
  {
   "cell_type": "code",
   "execution_count": 47,
   "metadata": {
    "colab": {},
    "colab_type": "code",
    "collapsed": true,
    "id": "5fbc1B_NlChN"
   },
   "outputs": [],
   "source": [
    "#load files\n",
    "#game data\n",
    "df_1617_gt = pd.read_csv('nba1617_gt.csv')  \n",
    "df_1718_gt = pd.read_csv('nba1718_gt.csv')\n",
    "frames = [df_1617_gt,df_1718_gt]\n",
    "df_all_games = pd.concat(frames)\n",
    "\n",
    "#viewership data\n",
    "df_ILP = pd.read_csv('International_League_Pass_Viewership.csv')\n",
    "\n",
    "#social data\n",
    "df_gt = pd.read_csv('NBA_gts_161718.csv')\n",
    "df_wp = pd.read_csv('nba_wp_pageviews.csv')\n",
    "df_social = pd.read_csv('New_Social_Media_Metrics.csv')"
   ]
  },
  {
   "cell_type": "code",
   "execution_count": 48,
   "metadata": {
    "collapsed": true
   },
   "outputs": [],
   "source": [
    "#wikipedia page views\n",
    "#convert to datetime\n",
    "df_wp['date'] = pd.to_datetime(df_wp.date)\n",
    "\n",
    "#extract month and year\n",
    "df_wp['month'] = df_wp['date'].dt.month\n",
    "df_wp['year'] = df_wp['date'].dt.year\n",
    "\n",
    "#sum wikipedia pageviews\n",
    "df_wp = df_wp.groupby(['team', 'month', 'year'])['wp_pageviews'].sum().reset_index()"
   ]
  },
  {
   "cell_type": "code",
   "execution_count": 49,
   "metadata": {
    "collapsed": true
   },
   "outputs": [],
   "source": [
    "#google trends\n",
    "\n",
    "#sort date ascending\n",
    "df_gt = df_gt.sort_values('date', ascending = True)\n",
    "\n",
    "#convert to datetime\n",
    "df_gt['date'] = pd.to_datetime(df_gt.date)\n",
    "\n",
    "#extract month and year\n",
    "df_gt['month'] = df_gt['date'].dt.month\n",
    "df_gt['year'] = df_gt['date'].dt.year\n",
    "\n",
    "#average of google trends scores in that month\n",
    "df_gt = df_gt.groupby(['team', 'month', 'year'])['gts'].mean().reset_index()\n",
    "\n"
   ]
  },
  {
   "cell_type": "code",
   "execution_count": 50,
   "metadata": {},
   "outputs": [
    {
     "name": "stdout",
     "output_type": "stream",
     "text": [
      "24780\n"
     ]
    }
   ],
   "source": [
    "#sum web metric score over a period of one month\n",
    "\n",
    "#load team web data\n",
    "df_web = pd.read_csv('Updated_Team_Web_Metrics.csv')\n",
    "\n",
    "#\"UNQ\" = Total unique viewers of team website properties on the given Date; \n",
    "#\"TTS\" = Total time spent on team website properties on the given Date, in second\n",
    "df_web['DTime'] = pd.to_datetime(df_web.Date) #converting to date to datetime\n",
    "df_web['Date'] = df_web['DTime'].dt.date #converting to date to datetime\n",
    "\n",
    "df_web = df_web.sort_values('Date',ascending=True)\n",
    "\n",
    "#UNQ and TTS\n",
    "df_web_unq = df_web[df_web['Metric']=='UNQ']\n",
    "df_web_tts = df_web[df_web['Metric']=='TTS']\n",
    "\n",
    "#make unq and tts columns\n",
    "df_web_unq=df_web_unq.rename(columns = {'Value':'UNQ'})\n",
    "df_web_tts=df_web_tts.rename(columns = {'Value':'TTS'})\n",
    "\n",
    "#updated to contain columns for UNQ and TTS separately\n",
    "df_web_updated = pd.merge(df_web_tts[['Team','Date','DTime','TTS']],df_web_unq[['Team','Date','UNQ']],on=['Date','Team'],how='left')\n",
    "\n",
    "\n",
    "#filter web data for 2016-17 \n",
    "df_web_updated = df_web_updated[df_web_updated.DTime >= '2016-05-01' ] \n",
    "\n",
    "\n",
    "\n",
    "#convert to date time\n",
    "df_web_updated['date'] = pd.to_datetime(df_web_updated.Date)  \n",
    "\n",
    "#extract month and year\n",
    "df_web_updated['month'] = df_web_updated['date'].dt.month\n",
    "df_web_updated['year'] = df_web_updated['date'].dt.year\n",
    "\n",
    "print(len(df_web_updated))\n",
    "#sum web metric pageviews\n",
    "df_web_TTS = df_web_updated.groupby(['Team', 'month', 'year'])['TTS'].sum().reset_index()\n",
    "df_web_UNQ = df_web_updated.groupby(['Team', 'month', 'year'])['UNQ'].mean().reset_index()\n",
    "\n",
    "\n",
    "#\n",
    "df_web_updated = pd.merge(df_web_TTS, df_web_UNQ, on=['Team', 'month', 'year'], how='left')\n",
    "\n",
    "\n"
   ]
  },
  {
   "cell_type": "code",
   "execution_count": 51,
   "metadata": {
    "collapsed": true
   },
   "outputs": [],
   "source": [
    "#team abbreviation -> team name\n",
    "team_abbrev_dict = {'New York Knicks':'NYK', \n",
    "                    'Utah Jazz':'UTA', \n",
    "                    'San Antonio Spurs':'SAS', \n",
    "                    'Miami Heat':'MIA', \n",
    "                    'Dallas Mavericks':'DAL', \n",
    "                    'Brooklyn Nets':'BRK', \n",
    "                    'Detroit Pistons':'DET', \n",
    "                    'Charlotte Hornets':'CHA', \n",
    "                    'Minnesota Timberwolves':'MIN',\n",
    "                    'Oklahoma City Thunder':'OKC', \n",
    "                    'Sacramento Kings':'SAC', \n",
    "                    'Houston Rockets':'HOU', \n",
    "                    'Washington Wizards':'WAS', \n",
    "                    'Boston Celtics':'BOS', \n",
    "                    'Los Angeles Clippers':'LAC', \n",
    "                    'Cleveland Cavaliers':'CLE', \n",
    "                    'Indiana Pacers':'IND', \n",
    "                    'Orlando Magic':'ORL',\n",
    "                    'Phoenix Suns':'PHX', \n",
    "                    'Los Angeles Lakers':'LAL', \n",
    "                    'Golden State Warriors':'GSW', \n",
    "                    'Memphis Grizzlies':'MEM', \n",
    "                    'New Orleans Pelicans':'NOP', \n",
    "                    'Portland Trail Blazers':'POR', \n",
    "                    'Milwaukee Bucks':'MIL', \n",
    "                    'Denver Nuggets':'DEN', \n",
    "                    'Chicago Bulls':'CHI',\n",
    "                    'Toronto Raptors':'TOR', \n",
    "                    'Philadelphia 76ers':'PHI', \n",
    "                    'Atlanta Hawks':'ATL'\n",
    "}\n",
    "\n",
    "def map_abbr_team(team):\n",
    "    \"\"\"Maps team abbreviation to actual name\"\"\"\n",
    "    team = team_abbrev_dict[team]\n",
    "    return team\n",
    "\n",
    "\n"
   ]
  },
  {
   "cell_type": "code",
   "execution_count": 52,
   "metadata": {
    "collapsed": true
   },
   "outputs": [],
   "source": [
    "#map teams to team names and locations\n",
    "df_all_games['Away'] = df_all_games['Away'].apply(lambda x:map_abbr_team(x))\n",
    "df_all_games['Home'] = df_all_games['Home'].apply(lambda x:map_abbr_team(x))\n",
    "df_gt['team'] = df_gt['team'].apply(lambda x:map_abbr_team(x))\n",
    "df_wp['team'] = df_wp['team'].apply(lambda x:map_abbr_team(x))\n"
   ]
  },
  {
   "cell_type": "code",
   "execution_count": 53,
   "metadata": {
    "collapsed": true
   },
   "outputs": [],
   "source": [
    "\n",
    "\n",
    "#finds previous month and extract year for game data\n",
    "df_all_games['Date'] = pd.to_datetime(df_all_games['Date'])\n",
    "dateutil.relativedelta.relativedelta(months=-1)\n",
    "df_all_games['prev_month'] = (df_all_games['Date'] - pd.DateOffset(months=1)).dt.month #previous month\n",
    "df_all_games['year'] = (df_all_games['Date'] - pd.DateOffset(months=1)).dt.year #year of previous month\n",
    "df_all_games['prev_month_2'] = (df_all_games['Date'] - pd.DateOffset(months=2)).dt.month #2 months ago\n",
    "df_all_games['year_2'] = (df_all_games['Date'] - pd.DateOffset(months=2)).dt.year #year of 2 months ago\n",
    "df_all_games['prev_month_3'] = (df_all_games['Date'] - pd.DateOffset(months=3)).dt.month #3 months ago\n",
    "df_all_games['year_3'] = (df_all_games['Date'] - pd.DateOffset(months=3)).dt.year #year of 3 months ago\n",
    "df_all_games['prev_month_4'] = (df_all_games['Date'] - pd.DateOffset(months=4)).dt.month #4 months ago\n",
    "df_all_games['year_4'] = (df_all_games['Date'] - pd.DateOffset(months=4)).dt.year #4 months ago"
   ]
  },
  {
   "cell_type": "code",
   "execution_count": 54,
   "metadata": {
    "collapsed": true
   },
   "outputs": [],
   "source": [
    "#change names for merging purposes\n",
    "df_social = df_social.rename(columns = {'Team':'team'})\n",
    "df_web_updated = df_web_updated.rename(columns = {'Team':'team'})\n",
    "df_social = df_social.rename(columns = {'Month':'month'})\n",
    "df_social = df_social.rename(columns = {'Year':'year'})\n",
    "\n",
    "#fix bug in data\n",
    "df_social.loc[df_social.year == 720, 'year'] = 2018"
   ]
  },
  {
   "cell_type": "code",
   "execution_count": 55,
   "metadata": {
    "collapsed": true
   },
   "outputs": [],
   "source": [
    "#join social data\n",
    "df_web_updated.head(3)\n",
    "df_social = pd.merge(df_social, df_gt, on = ['team', 'month', 'year'], how='left')\n",
    "df_social = pd.merge(df_social, df_wp, on = ['team', 'month', 'year'], how='left')\n",
    "df_social = pd.merge(df_social, df_web_updated, on = ['team', 'month', 'year'], how='left')"
   ]
  },
  {
   "cell_type": "code",
   "execution_count": 56,
   "metadata": {
    "collapsed": true
   },
   "outputs": [],
   "source": [
    "#export data to csv\n",
    "df_social.to_csv('social_nba.csv', index=False)"
   ]
  },
  {
   "cell_type": "code",
   "execution_count": null,
   "metadata": {
    "collapsed": true
   },
   "outputs": [],
   "source": []
  }
 ],
 "metadata": {
  "colab": {
   "collapsed_sections": [],
   "name": "Game_Feature_Vectors.ipynb",
   "provenance": [],
   "version": "0.3.2"
  },
  "kernelspec": {
   "display_name": "Python 3",
   "language": "python",
   "name": "python3"
  },
  "language_info": {
   "codemirror_mode": {
    "name": "ipython",
    "version": 3
   },
   "file_extension": ".py",
   "mimetype": "text/x-python",
   "name": "python",
   "nbconvert_exporter": "python",
   "pygments_lexer": "ipython3",
   "version": "3.6.1"
  }
 },
 "nbformat": 4,
 "nbformat_minor": 1
}
