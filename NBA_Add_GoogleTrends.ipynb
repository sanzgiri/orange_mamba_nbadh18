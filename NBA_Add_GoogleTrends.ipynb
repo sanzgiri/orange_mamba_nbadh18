{
  "nbformat": 4,
  "nbformat_minor": 0,
  "metadata": {
    "colab": {
      "name": "NBA_Add_GoogleTrends.ipynb",
      "version": "0.3.2",
      "provenance": [],
      "collapsed_sections": [],
      "include_colab_link": true
    },
    "kernelspec": {
      "name": "python3",
      "display_name": "Python 3"
    }
  },
  "cells": [
    {
      "cell_type": "markdown",
      "metadata": {
        "id": "view-in-github",
        "colab_type": "text"
      },
      "source": [
        "[View in Colaboratory](https://colab.research.google.com/github/sanzgiri/orange_mamba_nbadh18/blob/master/NBA_Add_GoogleTrends.ipynb)"
      ]
    },
    {
      "metadata": {
        "id": "nxHwV8oCsAXS",
        "colab_type": "code",
        "colab": {
          "base_uri": "https://localhost:8080/",
          "height": 2366
        },
        "outputId": "3d3eb92a-5d98-4e31-d9ae-1e88b5c9e6ef"
      },
      "cell_type": "code",
      "source": [
        "!apt-get install -y -qq software-properties-common python-software-properties module-init-tools\n",
        "!add-apt-repository -y ppa:alessandro-strada/ppa 2>&1 > /dev/null\n",
        "!apt-get update -qq 2>&1 > /dev/null\n",
        "!apt-get -y install -qq google-drive-ocamlfuse fuse\n",
        "from google.colab import auth\n",
        "auth.authenticate_user()\n",
        "from oauth2client.client import GoogleCredentials\n",
        "creds = GoogleCredentials.get_application_default()\n",
        "import getpass\n",
        "!google-drive-ocamlfuse -headless -id={creds.client_id} -secret={creds.client_secret} < /dev/null 2>&1 | grep URL\n",
        "vcode = getpass.getpass()\n",
        "!echo {vcode} | google-drive-ocamlfuse -headless -id={creds.client_id} -secret={creds.client_secret}\n",
        "\n",
        "### **Run the below code **\n",
        "\n",
        "!mkdir -p drive\n",
        "!google-drive-ocamlfuse drive\n"
      ],
      "execution_count": 1,
      "outputs": [
        {
          "output_type": "stream",
          "text": [
            "Preconfiguring packages ...\n",
            "Selecting previously unselected package cron.\n",
            "(Reading database ... 18408 files and directories currently installed.)\n",
            "Preparing to unpack .../00-cron_3.0pl1-128ubuntu5_amd64.deb ...\n",
            "Unpacking cron (3.0pl1-128ubuntu5) ...\n",
            "Selecting previously unselected package libapparmor1:amd64.\n",
            "Preparing to unpack .../01-libapparmor1_2.11.0-2ubuntu17.1_amd64.deb ...\n",
            "Unpacking libapparmor1:amd64 (2.11.0-2ubuntu17.1) ...\n",
            "Selecting previously unselected package libdbus-1-3:amd64.\n",
            "Preparing to unpack .../02-libdbus-1-3_1.10.22-1ubuntu1_amd64.deb ...\n",
            "Unpacking libdbus-1-3:amd64 (1.10.22-1ubuntu1) ...\n",
            "Selecting previously unselected package dbus.\n",
            "Preparing to unpack .../03-dbus_1.10.22-1ubuntu1_amd64.deb ...\n",
            "Unpacking dbus (1.10.22-1ubuntu1) ...\n",
            "Selecting previously unselected package dirmngr.\n",
            "Preparing to unpack .../04-dirmngr_2.1.15-1ubuntu8.1_amd64.deb ...\n",
            "Unpacking dirmngr (2.1.15-1ubuntu8.1) ...\n",
            "Selecting previously unselected package distro-info-data.\n",
            "Preparing to unpack .../05-distro-info-data_0.36ubuntu0.2_all.deb ...\n",
            "Unpacking distro-info-data (0.36ubuntu0.2) ...\n",
            "Selecting previously unselected package libkmod2:amd64.\n",
            "Preparing to unpack .../06-libkmod2_24-1ubuntu2_amd64.deb ...\n",
            "Unpacking libkmod2:amd64 (24-1ubuntu2) ...\n",
            "Selecting previously unselected package kmod.\n",
            "Preparing to unpack .../07-kmod_24-1ubuntu2_amd64.deb ...\n",
            "Unpacking kmod (24-1ubuntu2) ...\n",
            "Selecting previously unselected package lsb-release.\n",
            "Preparing to unpack .../08-lsb-release_9.20160110ubuntu5_all.deb ...\n",
            "Unpacking lsb-release (9.20160110ubuntu5) ...\n",
            "Selecting previously unselected package libgirepository-1.0-1:amd64.\n",
            "Preparing to unpack .../09-libgirepository-1.0-1_1.54.1-1_amd64.deb ...\n",
            "Unpacking libgirepository-1.0-1:amd64 (1.54.1-1) ...\n",
            "Selecting previously unselected package gir1.2-glib-2.0:amd64.\n",
            "Preparing to unpack .../10-gir1.2-glib-2.0_1.54.1-1_amd64.deb ...\n",
            "Unpacking gir1.2-glib-2.0:amd64 (1.54.1-1) ...\n",
            "Selecting previously unselected package iso-codes.\n",
            "Preparing to unpack .../11-iso-codes_3.75-1_all.deb ...\n",
            "Unpacking iso-codes (3.75-1) ...\n",
            "Selecting previously unselected package libdbus-glib-1-2:amd64.\n",
            "Preparing to unpack .../12-libdbus-glib-1-2_0.108-2_amd64.deb ...\n",
            "Unpacking libdbus-glib-1-2:amd64 (0.108-2) ...\n",
            "Selecting previously unselected package python-apt-common.\n",
            "Preparing to unpack .../13-python-apt-common_1.4.0~beta3build2_all.deb ...\n",
            "Unpacking python-apt-common (1.4.0~beta3build2) ...\n",
            "Selecting previously unselected package python3-apt.\n",
            "Preparing to unpack .../14-python3-apt_1.4.0~beta3build2_amd64.deb ...\n",
            "Unpacking python3-apt (1.4.0~beta3build2) ...\n",
            "Selecting previously unselected package python3-dbus.\n",
            "Preparing to unpack .../15-python3-dbus_1.2.4-1build3_amd64.deb ...\n",
            "Unpacking python3-dbus (1.2.4-1build3) ...\n",
            "Selecting previously unselected package python3-gi.\n",
            "Preparing to unpack .../16-python3-gi_3.24.1-2build1_amd64.deb ...\n",
            "Unpacking python3-gi (3.24.1-2build1) ...\n",
            "Selecting previously unselected package module-init-tools.\n",
            "Preparing to unpack .../17-module-init-tools_24-1ubuntu2_all.deb ...\n",
            "Unpacking module-init-tools (24-1ubuntu2) ...\n",
            "Selecting previously unselected package python-apt.\n",
            "Preparing to unpack .../18-python-apt_1.4.0~beta3build2_amd64.deb ...\n",
            "Unpacking python-apt (1.4.0~beta3build2) ...\n",
            "Selecting previously unselected package python-pycurl.\n",
            "Preparing to unpack .../19-python-pycurl_7.43.0-2build2_amd64.deb ...\n",
            "Unpacking python-pycurl (7.43.0-2build2) ...\n",
            "Selecting previously unselected package python-software-properties.\n",
            "Preparing to unpack .../20-python-software-properties_0.96.24.17_all.deb ...\n",
            "Unpacking python-software-properties (0.96.24.17) ...\n",
            "Selecting previously unselected package python3-software-properties.\n",
            "Preparing to unpack .../21-python3-software-properties_0.96.24.17_all.deb ...\n",
            "Unpacking python3-software-properties (0.96.24.17) ...\n",
            "Selecting previously unselected package software-properties-common.\n",
            "Preparing to unpack .../22-software-properties-common_0.96.24.17_all.deb ...\n",
            "Unpacking software-properties-common (0.96.24.17) ...\n",
            "Selecting previously unselected package unattended-upgrades.\n",
            "Preparing to unpack .../23-unattended-upgrades_0.98ubuntu1.1_all.deb ...\n",
            "Unpacking unattended-upgrades (0.98ubuntu1.1) ...\n",
            "Setting up python-apt-common (1.4.0~beta3build2) ...\n",
            "Setting up python3-apt (1.4.0~beta3build2) ...\n",
            "Setting up iso-codes (3.75-1) ...\n",
            "Setting up distro-info-data (0.36ubuntu0.2) ...\n",
            "Setting up python-pycurl (7.43.0-2build2) ...\n",
            "Setting up lsb-release (9.20160110ubuntu5) ...\n",
            "Setting up libgirepository-1.0-1:amd64 (1.54.1-1) ...\n",
            "Setting up libkmod2:amd64 (24-1ubuntu2) ...\n",
            "Setting up gir1.2-glib-2.0:amd64 (1.54.1-1) ...\n",
            "Processing triggers for libc-bin (2.26-0ubuntu2.1) ...\n",
            "Setting up libapparmor1:amd64 (2.11.0-2ubuntu17.1) ...\n",
            "Setting up unattended-upgrades (0.98ubuntu1.1) ...\n",
            "\n",
            "Creating config file /etc/apt/apt.conf.d/20auto-upgrades with new version\n",
            "\n",
            "Creating config file /etc/apt/apt.conf.d/50unattended-upgrades with new version\n",
            "invoke-rc.d: could not determine current runlevel\n",
            "invoke-rc.d: policy-rc.d denied execution of start.\n",
            "Setting up dirmngr (2.1.15-1ubuntu8.1) ...\n",
            "Setting up cron (3.0pl1-128ubuntu5) ...\n",
            "Adding group `crontab' (GID 102) ...\n",
            "Done.\n",
            "update-rc.d: warning: start and stop actions are no longer supported; falling back to defaults\n",
            "update-rc.d: warning: stop runlevel arguments (1) do not match cron Default-Stop values (none)\n",
            "invoke-rc.d: could not determine current runlevel\n",
            "invoke-rc.d: policy-rc.d denied execution of start.\n",
            "Setting up libdbus-1-3:amd64 (1.10.22-1ubuntu1) ...\n",
            "Setting up kmod (24-1ubuntu2) ...\n",
            "Setting up libdbus-glib-1-2:amd64 (0.108-2) ...\n",
            "Setting up python3-gi (3.24.1-2build1) ...\n",
            "Setting up module-init-tools (24-1ubuntu2) ...\n",
            "Setting up python3-software-properties (0.96.24.17) ...\n",
            "Setting up dbus (1.10.22-1ubuntu1) ...\n",
            "Setting up python-apt (1.4.0~beta3build2) ...\n",
            "Setting up python3-dbus (1.2.4-1build3) ...\n",
            "Setting up python-software-properties (0.96.24.17) ...\n",
            "Setting up software-properties-common (0.96.24.17) ...\n",
            "Processing triggers for libc-bin (2.26-0ubuntu2.1) ...\n",
            "Processing triggers for dbus (1.10.22-1ubuntu1) ...\n",
            "gpg: keybox '/tmp/tmp4ssao9vo/pubring.gpg' created\n",
            "gpg: /tmp/tmp4ssao9vo/trustdb.gpg: trustdb created\n",
            "gpg: key AD5F235DF639B041: public key \"Launchpad PPA for Alessandro Strada\" imported\n",
            "gpg: Total number processed: 1\n",
            "gpg:               imported: 1\n",
            "Warning: apt-key output should not be parsed (stdout is not a terminal)\n",
            "Selecting previously unselected package libfuse2:amd64.\n",
            "(Reading database ... 19816 files and directories currently installed.)\n",
            "Preparing to unpack .../libfuse2_2.9.7-1ubuntu1_amd64.deb ...\n",
            "Unpacking libfuse2:amd64 (2.9.7-1ubuntu1) ...\n",
            "Selecting previously unselected package fuse.\n",
            "Preparing to unpack .../fuse_2.9.7-1ubuntu1_amd64.deb ...\n",
            "Unpacking fuse (2.9.7-1ubuntu1) ...\n",
            "Selecting previously unselected package google-drive-ocamlfuse.\n",
            "Preparing to unpack .../google-drive-ocamlfuse_0.6.21-0ubuntu2_amd64.deb ...\n",
            "Unpacking google-drive-ocamlfuse (0.6.21-0ubuntu2) ...\n",
            "Setting up libfuse2:amd64 (2.9.7-1ubuntu1) ...\n",
            "Processing triggers for libc-bin (2.26-0ubuntu2.1) ...\n",
            "Setting up fuse (2.9.7-1ubuntu1) ...\n",
            "Setting up google-drive-ocamlfuse (0.6.21-0ubuntu2) ...\n",
            "Please, open the following URL in a web browser: https://accounts.google.com/o/oauth2/auth?client_id=32555940559.apps.googleusercontent.com&redirect_uri=urn%3Aietf%3Awg%3Aoauth%3A2.0%3Aoob&scope=https%3A%2F%2Fwww.googleapis.com%2Fauth%2Fdrive&response_type=code&access_type=offline&approval_prompt=force\n",
            "··········\n",
            "Please, open the following URL in a web browser: https://accounts.google.com/o/oauth2/auth?client_id=32555940559.apps.googleusercontent.com&redirect_uri=urn%3Aietf%3Awg%3Aoauth%3A2.0%3Aoob&scope=https%3A%2F%2Fwww.googleapis.com%2Fauth%2Fdrive&response_type=code&access_type=offline&approval_prompt=force\n",
            "Please enter the verification code: Access token retrieved correctly.\n"
          ],
          "name": "stdout"
        }
      ]
    },
    {
      "metadata": {
        "id": "M7WXf3_JIgdv",
        "colab_type": "code",
        "colab": {}
      },
      "cell_type": "code",
      "source": [
        "import pandas as pd\n",
        "df1 = pd.read_csv(\"drive/NBA_Data_Hackathon/nba1617_gt.csv\") \n",
        "df2 = pd.read_csv(\"drive/NBA_Data_Hackathon/nba1718_gt.csv\") "
      ],
      "execution_count": 0,
      "outputs": []
    },
    {
      "metadata": {
        "id": "RCoaQSI9slOh",
        "colab_type": "code",
        "colab": {
          "base_uri": "https://localhost:8080/",
          "height": 204
        },
        "outputId": "a7b0df36-0bfe-4d49-85cf-715e2aed3330"
      },
      "cell_type": "code",
      "source": [
        "df1.head()"
      ],
      "execution_count": 7,
      "outputs": [
        {
          "output_type": "execute_result",
          "data": {
            "text/html": [
              "<div>\n",
              "<style scoped>\n",
              "    .dataframe tbody tr th:only-of-type {\n",
              "        vertical-align: middle;\n",
              "    }\n",
              "\n",
              "    .dataframe tbody tr th {\n",
              "        vertical-align: top;\n",
              "    }\n",
              "\n",
              "    .dataframe thead th {\n",
              "        text-align: right;\n",
              "    }\n",
              "</style>\n",
              "<table border=\"1\" class=\"dataframe\">\n",
              "  <thead>\n",
              "    <tr style=\"text-align: right;\">\n",
              "      <th></th>\n",
              "      <th>Date</th>\n",
              "      <th>Start (ET)</th>\n",
              "      <th>Home</th>\n",
              "      <th>Home_Points</th>\n",
              "      <th>Away</th>\n",
              "      <th>Away_Points</th>\n",
              "      <th>Attend.</th>\n",
              "      <th>GT_Home</th>\n",
              "      <th>GT_Away</th>\n",
              "    </tr>\n",
              "  </thead>\n",
              "  <tbody>\n",
              "    <tr>\n",
              "      <th>0</th>\n",
              "      <td>2016-10-25</td>\n",
              "      <td>7:30 pm</td>\n",
              "      <td>Cleveland Cavaliers</td>\n",
              "      <td>117.0</td>\n",
              "      <td>New York Knicks</td>\n",
              "      <td>88.0</td>\n",
              "      <td>20562.0</td>\n",
              "      <td>99.0</td>\n",
              "      <td>51.0</td>\n",
              "    </tr>\n",
              "    <tr>\n",
              "      <th>1</th>\n",
              "      <td>2016-10-25</td>\n",
              "      <td>10:30 pm</td>\n",
              "      <td>Golden State Warriors</td>\n",
              "      <td>100.0</td>\n",
              "      <td>San Antonio Spurs</td>\n",
              "      <td>129.0</td>\n",
              "      <td>19596.0</td>\n",
              "      <td>100.0</td>\n",
              "      <td>100.0</td>\n",
              "    </tr>\n",
              "    <tr>\n",
              "      <th>2</th>\n",
              "      <td>2016-10-25</td>\n",
              "      <td>10:00 pm</td>\n",
              "      <td>Portland Trail Blazers</td>\n",
              "      <td>113.0</td>\n",
              "      <td>Utah Jazz</td>\n",
              "      <td>104.0</td>\n",
              "      <td>19446.0</td>\n",
              "      <td>12.0</td>\n",
              "      <td>18.0</td>\n",
              "    </tr>\n",
              "    <tr>\n",
              "      <th>3</th>\n",
              "      <td>2016-10-26</td>\n",
              "      <td>7:30 pm</td>\n",
              "      <td>Boston Celtics</td>\n",
              "      <td>122.0</td>\n",
              "      <td>Brooklyn Nets</td>\n",
              "      <td>117.0</td>\n",
              "      <td>18624.0</td>\n",
              "      <td>100.0</td>\n",
              "      <td>24.0</td>\n",
              "    </tr>\n",
              "    <tr>\n",
              "      <th>4</th>\n",
              "      <td>2016-10-26</td>\n",
              "      <td>7:00 pm</td>\n",
              "      <td>Indiana Pacers</td>\n",
              "      <td>130.0</td>\n",
              "      <td>Dallas Mavericks</td>\n",
              "      <td>121.0</td>\n",
              "      <td>17923.0</td>\n",
              "      <td>40.0</td>\n",
              "      <td>100.0</td>\n",
              "    </tr>\n",
              "  </tbody>\n",
              "</table>\n",
              "</div>"
            ],
            "text/plain": [
              "         Date Start (ET)                    Home  Home_Points  \\\n",
              "0  2016-10-25    7:30 pm     Cleveland Cavaliers        117.0   \n",
              "1  2016-10-25   10:30 pm   Golden State Warriors        100.0   \n",
              "2  2016-10-25   10:00 pm  Portland Trail Blazers        113.0   \n",
              "3  2016-10-26    7:30 pm          Boston Celtics        122.0   \n",
              "4  2016-10-26    7:00 pm          Indiana Pacers        130.0   \n",
              "\n",
              "                Away  Away_Points  Attend.  GT_Home  GT_Away  \n",
              "0    New York Knicks         88.0  20562.0     99.0     51.0  \n",
              "1  San Antonio Spurs        129.0  19596.0    100.0    100.0  \n",
              "2          Utah Jazz        104.0  19446.0     12.0     18.0  \n",
              "3      Brooklyn Nets        117.0  18624.0    100.0     24.0  \n",
              "4   Dallas Mavericks        121.0  17923.0     40.0    100.0  "
            ]
          },
          "metadata": {
            "tags": []
          },
          "execution_count": 7
        }
      ]
    },
    {
      "metadata": {
        "id": "fcywVh2vtHM5",
        "colab_type": "code",
        "colab": {
          "base_uri": "https://localhost:8080/",
          "height": 204
        },
        "outputId": "a8e40682-f573-4afe-cfd7-5e193a538814"
      },
      "cell_type": "code",
      "source": [
        "df2.head()\n"
      ],
      "execution_count": 8,
      "outputs": [
        {
          "output_type": "execute_result",
          "data": {
            "text/html": [
              "<div>\n",
              "<style scoped>\n",
              "    .dataframe tbody tr th:only-of-type {\n",
              "        vertical-align: middle;\n",
              "    }\n",
              "\n",
              "    .dataframe tbody tr th {\n",
              "        vertical-align: top;\n",
              "    }\n",
              "\n",
              "    .dataframe thead th {\n",
              "        text-align: right;\n",
              "    }\n",
              "</style>\n",
              "<table border=\"1\" class=\"dataframe\">\n",
              "  <thead>\n",
              "    <tr style=\"text-align: right;\">\n",
              "      <th></th>\n",
              "      <th>Date</th>\n",
              "      <th>Start (ET)</th>\n",
              "      <th>Home</th>\n",
              "      <th>Home_Points</th>\n",
              "      <th>Away</th>\n",
              "      <th>Away_Points</th>\n",
              "      <th>Attend.</th>\n",
              "      <th>GT_Home</th>\n",
              "      <th>GT_Away</th>\n",
              "    </tr>\n",
              "  </thead>\n",
              "  <tbody>\n",
              "    <tr>\n",
              "      <th>0</th>\n",
              "      <td>2017-10-17</td>\n",
              "      <td>8:01 pm</td>\n",
              "      <td>Cleveland Cavaliers</td>\n",
              "      <td>102.0</td>\n",
              "      <td>Boston Celtics</td>\n",
              "      <td>99.0</td>\n",
              "      <td>20562.0</td>\n",
              "      <td>100.0</td>\n",
              "      <td>63.0</td>\n",
              "    </tr>\n",
              "    <tr>\n",
              "      <th>1</th>\n",
              "      <td>2017-10-17</td>\n",
              "      <td>10:30 pm</td>\n",
              "      <td>Golden State Warriors</td>\n",
              "      <td>121.0</td>\n",
              "      <td>Houston Rockets</td>\n",
              "      <td>122.0</td>\n",
              "      <td>19596.0</td>\n",
              "      <td>55.0</td>\n",
              "      <td>31.0</td>\n",
              "    </tr>\n",
              "    <tr>\n",
              "      <th>2</th>\n",
              "      <td>2017-10-18</td>\n",
              "      <td>7:30 pm</td>\n",
              "      <td>Boston Celtics</td>\n",
              "      <td>100.0</td>\n",
              "      <td>Milwaukee Bucks</td>\n",
              "      <td>108.0</td>\n",
              "      <td>18624.0</td>\n",
              "      <td>100.0</td>\n",
              "      <td>49.0</td>\n",
              "    </tr>\n",
              "    <tr>\n",
              "      <th>3</th>\n",
              "      <td>2017-10-18</td>\n",
              "      <td>8:30 pm</td>\n",
              "      <td>Dallas Mavericks</td>\n",
              "      <td>111.0</td>\n",
              "      <td>Atlanta Hawks</td>\n",
              "      <td>117.0</td>\n",
              "      <td>19709.0</td>\n",
              "      <td>80.0</td>\n",
              "      <td>100.0</td>\n",
              "    </tr>\n",
              "    <tr>\n",
              "      <th>4</th>\n",
              "      <td>2017-10-18</td>\n",
              "      <td>7:00 pm</td>\n",
              "      <td>Detroit Pistons</td>\n",
              "      <td>102.0</td>\n",
              "      <td>Charlotte Hornets</td>\n",
              "      <td>90.0</td>\n",
              "      <td>20491.0</td>\n",
              "      <td>48.0</td>\n",
              "      <td>30.0</td>\n",
              "    </tr>\n",
              "  </tbody>\n",
              "</table>\n",
              "</div>"
            ],
            "text/plain": [
              "         Date Start (ET)                   Home  Home_Points  \\\n",
              "0  2017-10-17    8:01 pm    Cleveland Cavaliers        102.0   \n",
              "1  2017-10-17   10:30 pm  Golden State Warriors        121.0   \n",
              "2  2017-10-18    7:30 pm         Boston Celtics        100.0   \n",
              "3  2017-10-18    8:30 pm       Dallas Mavericks        111.0   \n",
              "4  2017-10-18    7:00 pm        Detroit Pistons        102.0   \n",
              "\n",
              "                Away  Away_Points  Attend.  GT_Home  GT_Away  \n",
              "0     Boston Celtics         99.0  20562.0    100.0     63.0  \n",
              "1    Houston Rockets        122.0  19596.0     55.0     31.0  \n",
              "2    Milwaukee Bucks        108.0  18624.0    100.0     49.0  \n",
              "3      Atlanta Hawks        117.0  19709.0     80.0    100.0  \n",
              "4  Charlotte Hornets         90.0  20491.0     48.0     30.0  "
            ]
          },
          "metadata": {
            "tags": []
          },
          "execution_count": 8
        }
      ]
    },
    {
      "metadata": {
        "id": "8pbE_Yp3tJbj",
        "colab_type": "code",
        "colab": {
          "base_uri": "https://localhost:8080/",
          "height": 187
        },
        "outputId": "c68c40f5-e083-456f-e91b-176f114c2ed7"
      },
      "cell_type": "code",
      "source": [
        "df1.dtypes"
      ],
      "execution_count": 9,
      "outputs": [
        {
          "output_type": "execute_result",
          "data": {
            "text/plain": [
              "Date            object\n",
              "Start (ET)      object\n",
              "Home            object\n",
              "Home_Points    float64\n",
              "Away            object\n",
              "Away_Points    float64\n",
              "Attend.        float64\n",
              "GT_Home        float64\n",
              "GT_Away        float64\n",
              "dtype: object"
            ]
          },
          "metadata": {
            "tags": []
          },
          "execution_count": 9
        }
      ]
    },
    {
      "metadata": {
        "id": "R-7i3DtFybce",
        "colab_type": "code",
        "colab": {
          "base_uri": "https://localhost:8080/",
          "height": 408
        },
        "outputId": "6d1b8349-8d14-4046-bf47-c659f776e1c2"
      },
      "cell_type": "code",
      "source": [
        "#!pip install  pytrends\n",
        "!pip install --upgrade git+https://github.com/GeneralMills/pytrends\n",
        "!pip install lxml"
      ],
      "execution_count": 19,
      "outputs": [
        {
          "output_type": "stream",
          "text": [
            "Collecting git+https://github.com/GeneralMills/pytrends\n",
            "  Cloning https://github.com/GeneralMills/pytrends to /tmp/pip-req-build-44k2_98t\n",
            "Requirement already satisfied, skipping upgrade: requests in /usr/local/lib/python3.6/dist-packages (from pytrends==4.4.0) (2.18.4)\n",
            "Requirement already satisfied, skipping upgrade: pandas in /usr/local/lib/python3.6/dist-packages (from pytrends==4.4.0) (0.22.0)\n",
            "Requirement already satisfied, skipping upgrade: lxml in /root/.local/lib/python3.6/site-packages (from pytrends==4.4.0) (4.2.4)\n",
            "Requirement already satisfied, skipping upgrade: certifi>=2017.4.17 in /usr/local/lib/python3.6/dist-packages (from requests->pytrends==4.4.0) (2018.8.24)\n",
            "Requirement already satisfied, skipping upgrade: idna<2.7,>=2.5 in /usr/local/lib/python3.6/dist-packages (from requests->pytrends==4.4.0) (2.6)\n",
            "Requirement already satisfied, skipping upgrade: chardet<3.1.0,>=3.0.2 in /usr/local/lib/python3.6/dist-packages (from requests->pytrends==4.4.0) (3.0.4)\n",
            "Requirement already satisfied, skipping upgrade: urllib3<1.23,>=1.21.1 in /usr/local/lib/python3.6/dist-packages (from requests->pytrends==4.4.0) (1.22)\n",
            "Requirement already satisfied, skipping upgrade: pytz>=2011k in /usr/local/lib/python3.6/dist-packages (from pandas->pytrends==4.4.0) (2018.5)\n",
            "Requirement already satisfied, skipping upgrade: python-dateutil>=2 in /usr/local/lib/python3.6/dist-packages (from pandas->pytrends==4.4.0) (2.5.3)\n",
            "Requirement already satisfied, skipping upgrade: numpy>=1.9.0 in /usr/local/lib/python3.6/dist-packages (from pandas->pytrends==4.4.0) (1.14.5)\n",
            "Requirement already satisfied, skipping upgrade: six>=1.5 in /usr/local/lib/python3.6/dist-packages (from python-dateutil>=2->pandas->pytrends==4.4.0) (1.11.0)\n",
            "Building wheels for collected packages: pytrends\n",
            "  Running setup.py bdist_wheel for pytrends ... \u001b[?25l-\b \bdone\n",
            "\u001b[?25h  Stored in directory: /tmp/pip-ephem-wheel-cache-ykbaa_24/wheels/f6/49/f7/a4785ff2079f1cc793186a60d40863c5d4ee9863e2b315a0bd\n",
            "Successfully built pytrends\n",
            "Installing collected packages: pytrends\n",
            "  Found existing installation: pytrends 4.4.0\n",
            "    Uninstalling pytrends-4.4.0:\n",
            "      Successfully uninstalled pytrends-4.4.0\n",
            "Successfully installed pytrends-4.4.0\n",
            "Requirement already satisfied: lxml in /root/.local/lib/python3.6/site-packages (4.2.4)\n"
          ],
          "name": "stdout"
        }
      ]
    },
    {
      "metadata": {
        "id": "4UhDEhGcioC8",
        "colab_type": "code",
        "colab": {
          "base_uri": "https://localhost:8080/",
          "height": 34
        },
        "outputId": "5c38ca09-514a-474f-f511-f41d3d5f5a5a"
      },
      "cell_type": "code",
      "source": [
        "teams1 = list(df1.Home.unique())\n",
        "teams2 = list(df2.Home.unique())\n",
        "set(teams1) - set(teams2)"
      ],
      "execution_count": 11,
      "outputs": [
        {
          "output_type": "execute_result",
          "data": {
            "text/plain": [
              "set()"
            ]
          },
          "metadata": {
            "tags": []
          },
          "execution_count": 11
        }
      ]
    },
    {
      "metadata": {
        "id": "Hdtiiu9XrC8G",
        "colab_type": "code",
        "colab": {
          "base_uri": "https://localhost:8080/",
          "height": 54
        },
        "outputId": "d0d3757b-d0a2-4e16-bd69-2285d288f323"
      },
      "cell_type": "code",
      "source": [
        "print(teams1)"
      ],
      "execution_count": 10,
      "outputs": [
        {
          "output_type": "stream",
          "text": [
            "['Cleveland Cavaliers', 'Golden State Warriors', 'Portland Trail Blazers', 'Boston Celtics', 'Indiana Pacers', 'Los Angeles Lakers', 'Memphis Grizzlies', 'Milwaukee Bucks', 'New Orleans Pelicans', 'Orlando Magic', 'Philadelphia 76ers', 'Phoenix Suns', 'Toronto Raptors', 'Atlanta Hawks', 'Chicago Bulls', 'Sacramento Kings', 'Brooklyn Nets', 'Dallas Mavericks', 'Detroit Pistons', 'Miami Heat', 'Oklahoma City Thunder', 'Utah Jazz', 'Charlotte Hornets', 'Denver Nuggets', 'New York Knicks', 'San Antonio Spurs', 'Houston Rockets', 'Los Angeles Clippers', 'Minnesota Timberwolves', 'Washington Wizards']\n"
          ],
          "name": "stdout"
        }
      ]
    },
    {
      "metadata": {
        "id": "lVO3TXmvo_1v",
        "colab_type": "code",
        "colab": {}
      },
      "cell_type": "code",
      "source": [
        "season1 = pd.date_range(\"2016-10-01\", \"2017-06-30\").to_series()\n",
        "season2 = pd.date_range(\"2017-10-01\", \"2018-06-30\").to_series()"
      ],
      "execution_count": 0,
      "outputs": []
    },
    {
      "metadata": {
        "id": "RmKYMpKCjf0K",
        "colab_type": "code",
        "colab": {}
      },
      "cell_type": "code",
      "source": [
        "from pytrends.request import TrendReq\n",
        "import time\n",
        "\n",
        "pytrends = TrendReq(hl='en-US')\n",
        "\n",
        "from collections import defaultdict\n",
        "team_gts_dict = defaultdict(dict)\n",
        "\n",
        "for day in season1:\n",
        "  \n",
        "  tf = day.strftime('%Y-%m-%d %Y-%m-%d')\n",
        "  print(\"Running for {0}\".format(tf))\n",
        "  nchunks = (len(teams1)/5) \n",
        "  \n",
        "  for n in range(int(nchunks)):\n",
        "    teamq = teams1[n * 5: n * 5 + 5]\n",
        "    print(day, teamq)\n",
        "    \n",
        "    pytrends.build_payload(teamq, cat=264, timeframe=tf)\n",
        "    time.sleep(1)\n",
        "    dft = pytrends.interest_over_time().reset_index()\n",
        "    \n",
        "    for t in dft.columns.values:\n",
        "      if t not in ['isPartial', 'date']:\n",
        "        gts = dft[t].iloc[0]\n",
        "        team_gts_dict[day][t] = gts\n",
        "    "
      ],
      "execution_count": 0,
      "outputs": []
    },
    {
      "metadata": {
        "id": "pN6Tobb9G_9w",
        "colab_type": "code",
        "colab": {}
      },
      "cell_type": "code",
      "source": [
        "from pytrends.request import TrendReq\n",
        "import time\n",
        "\n",
        "pytrends = TrendReq(hl='en-US')\n",
        "\n",
        "\n",
        "from collections import defaultdict\n",
        "team_gts_dict2 = defaultdict(dict)\n",
        "\n",
        "for day in season2:\n",
        "  \n",
        "  tf = day.strftime('%Y-%m-%d %Y-%m-%d')\n",
        "  print(\"Running for {0}\".format(tf))\n",
        "  nchunks = (len(teams2)/5) \n",
        "  \n",
        "  for n in range(int(nchunks)):\n",
        "    teamq = teams2[n * 5: n * 5 + 5]\n",
        "    print(day, teamq)\n",
        "    \n",
        "    pytrends.build_payload(teamq, cat=264, timeframe=tf)\n",
        "    time.sleep(2)\n",
        "    dft = pytrends.interest_over_time().reset_index()\n",
        "    \n",
        "    for t in dft.columns.values:\n",
        "      if t not in ['isPartial', 'date']:\n",
        "        gts = dft[t].iloc[0]\n",
        "        team_gts_dict2[day][t] = gts"
      ],
      "execution_count": 0,
      "outputs": []
    },
    {
      "metadata": {
        "id": "MVTW_BylDzmU",
        "colab_type": "code",
        "colab": {
          "base_uri": "https://localhost:8080/",
          "height": 204
        },
        "outputId": "e65d85a8-9325-4ef5-90b0-c769345db216"
      },
      "cell_type": "code",
      "source": [
        "dfs1 = pd.DataFrame.from_dict(team_gts_dict)\n",
        "dfs1 = dfs1.T.reset_index()\n",
        "dfs1 = pd.melt(dfs1,[\"index\"], var_name=\"team\", value_name=\"gts\")\n",
        "dfs1 = dfs1.rename(columns={'index':'date'})\n",
        "dfs1.head()\n",
        "#dff2.to_csv(\"drive/NBA_Data_Hackathon/nba_gts.csv\", index=None) "
      ],
      "execution_count": 59,
      "outputs": [
        {
          "output_type": "execute_result",
          "data": {
            "text/html": [
              "<div>\n",
              "<style scoped>\n",
              "    .dataframe tbody tr th:only-of-type {\n",
              "        vertical-align: middle;\n",
              "    }\n",
              "\n",
              "    .dataframe tbody tr th {\n",
              "        vertical-align: top;\n",
              "    }\n",
              "\n",
              "    .dataframe thead th {\n",
              "        text-align: right;\n",
              "    }\n",
              "</style>\n",
              "<table border=\"1\" class=\"dataframe\">\n",
              "  <thead>\n",
              "    <tr style=\"text-align: right;\">\n",
              "      <th></th>\n",
              "      <th>date</th>\n",
              "      <th>team</th>\n",
              "      <th>gts</th>\n",
              "    </tr>\n",
              "  </thead>\n",
              "  <tbody>\n",
              "    <tr>\n",
              "      <th>0</th>\n",
              "      <td>2016-10-01</td>\n",
              "      <td>Atlanta Hawks</td>\n",
              "      <td>25.0</td>\n",
              "    </tr>\n",
              "    <tr>\n",
              "      <th>1</th>\n",
              "      <td>2016-10-02</td>\n",
              "      <td>Atlanta Hawks</td>\n",
              "      <td>22.0</td>\n",
              "    </tr>\n",
              "    <tr>\n",
              "      <th>2</th>\n",
              "      <td>2016-10-03</td>\n",
              "      <td>Atlanta Hawks</td>\n",
              "      <td>15.0</td>\n",
              "    </tr>\n",
              "    <tr>\n",
              "      <th>3</th>\n",
              "      <td>2016-10-04</td>\n",
              "      <td>Atlanta Hawks</td>\n",
              "      <td>10.0</td>\n",
              "    </tr>\n",
              "    <tr>\n",
              "      <th>4</th>\n",
              "      <td>2016-10-05</td>\n",
              "      <td>Atlanta Hawks</td>\n",
              "      <td>20.0</td>\n",
              "    </tr>\n",
              "  </tbody>\n",
              "</table>\n",
              "</div>"
            ],
            "text/plain": [
              "        date           team   gts\n",
              "0 2016-10-01  Atlanta Hawks  25.0\n",
              "1 2016-10-02  Atlanta Hawks  22.0\n",
              "2 2016-10-03  Atlanta Hawks  15.0\n",
              "3 2016-10-04  Atlanta Hawks  10.0\n",
              "4 2016-10-05  Atlanta Hawks  20.0"
            ]
          },
          "metadata": {
            "tags": []
          },
          "execution_count": 59
        }
      ]
    },
    {
      "metadata": {
        "id": "YdhmQi-CFEY3",
        "colab_type": "code",
        "colab": {}
      },
      "cell_type": "code",
      "source": [
        "dff2 = pd.melt(dff,[\"index\"], var_name=\"team\", value_name=\"gts\")\n",
        "dff2 = dff2.rename(columns={'index':'date'})"
      ],
      "execution_count": 0,
      "outputs": []
    },
    {
      "metadata": {
        "id": "PCiz3IyDFzwm",
        "colab_type": "code",
        "colab": {}
      },
      "cell_type": "code",
      "source": [
        "dff2.to_csv(\"drive/NBA_Data_Hackathon/nba_gts.csv\", index=None) "
      ],
      "execution_count": 0,
      "outputs": []
    },
    {
      "metadata": {
        "id": "Gt--qr0_p4x4",
        "colab_type": "code",
        "colab": {
          "base_uri": "https://localhost:8080/",
          "height": 391
        },
        "outputId": "15a46721-1dc1-4305-87ca-34220b34a9b2"
      },
      "cell_type": "code",
      "source": [
        "!pip install --upgrade git+https://github.com/GeneralMills/pytrends\n",
        "!pip install lxml\n",
        "\n",
        "import pandas as pd\n",
        "import sys\n",
        "from pytrends.request import TrendReq\n",
        "import time\n",
        "from collections import defaultdict\n",
        "\n",
        "def get_gts(start_date, end_date):\n",
        "\n",
        "    season = pd.date_range(start_date, end_date).to_series()\n",
        "\n",
        "    end_date_str = end_date.replace('-','')\n",
        "    outfile = 'drive/NBA_Data_Hackathon/gts_{0}.csv'.format(end_date_str)\n",
        "    #outfile = 'gts_{0}.csv'.format(end_date_str)\n",
        "\n",
        "    pytrends = TrendReq(hl='en-US')\n",
        "\n",
        "    team_gts_dict = defaultdict(dict)\n",
        "    teams = ['Cleveland Cavaliers', 'Golden State Warriors', 'Portland Trail Blazers', 'Boston Celtics', 'Indiana Pacers',\n",
        "             'Los Angeles Lakers', 'Memphis Grizzlies', 'Milwaukee Bucks', 'New Orleans Pelicans', 'Orlando Magic',\n",
        "             'Philadelphia 76ers', 'Phoenix Suns', 'Toronto Raptors', 'Atlanta Hawks', 'Chicago Bulls',\n",
        "             'Sacramento Kings', 'Brooklyn Nets', 'Dallas Mavericks', 'Detroit Pistons', 'Miami Heat',\n",
        "             'Oklahoma City Thunder', 'Utah Jazz', 'Charlotte Hornets', 'Denver Nuggets', 'New York Knicks',\n",
        "             'San Antonio Spurs', 'Houston Rockets', 'Los Angeles Clippers', 'Minnesota Timberwolves', 'Washington Wizards']\n",
        "\n",
        "    for day in season:\n",
        "\n",
        "        tf = day.strftime('%Y-%m-%d %Y-%m-%d')\n",
        "        print(\"Running for {0}\".format(tf))\n",
        "        nchunks = (len(teams)/5)\n",
        "\n",
        "        for n in range(int(nchunks)):\n",
        "            teamq = teams[n * 5: n * 5 + 5]\n",
        "            #print(day, teamq)\n",
        "\n",
        "            pytrends.build_payload(teamq, cat=264, timeframe=tf)\n",
        "            time.sleep(1)\n",
        "            dft = pytrends.interest_over_time().reset_index()\n",
        "\n",
        "            for t in dft.columns.values:\n",
        "                if t not in ['isPartial', 'date']:\n",
        "                    gts = dft[t].iloc[0]\n",
        "                    team_gts_dict[day][t] = gts\n",
        "\n",
        "\n",
        "    dfs = pd.DataFrame.from_dict(team_gts_dict)\n",
        "    dfs = dfs.T.reset_index()\n",
        "    dfs = pd.melt(dfs,[\"index\"], var_name=\"team\", value_name=\"gts\")\n",
        "    dfs = dfs.rename(columns={'index':'date'})\n",
        "    dfs.to_csv(outfile, index=None)"
      ],
      "execution_count": 2,
      "outputs": [
        {
          "output_type": "stream",
          "text": [
            "Collecting git+https://github.com/GeneralMills/pytrends\n",
            "  Cloning https://github.com/GeneralMills/pytrends to /tmp/pip-req-build-s2jxxqh8\n",
            "Requirement already satisfied, skipping upgrade: requests in /usr/local/lib/python3.6/dist-packages (from pytrends==4.4.0) (2.18.4)\n",
            "Requirement already satisfied, skipping upgrade: pandas in /usr/local/lib/python3.6/dist-packages (from pytrends==4.4.0) (0.22.0)\n",
            "Collecting lxml (from pytrends==4.4.0)\n",
            "\u001b[?25l  Downloading https://files.pythonhosted.org/packages/eb/59/1db3c9c27049e4f832691c6d642df1f5b64763f73942172c44fee22de397/lxml-4.2.4-cp36-cp36m-manylinux1_x86_64.whl (5.8MB)\n",
            "\u001b[K    100% |████████████████████████████████| 5.8MB 5.2MB/s \n",
            "\u001b[?25hRequirement already satisfied, skipping upgrade: chardet<3.1.0,>=3.0.2 in /usr/local/lib/python3.6/dist-packages (from requests->pytrends==4.4.0) (3.0.4)\n",
            "Requirement already satisfied, skipping upgrade: certifi>=2017.4.17 in /usr/local/lib/python3.6/dist-packages (from requests->pytrends==4.4.0) (2018.8.24)\n",
            "Requirement already satisfied, skipping upgrade: urllib3<1.23,>=1.21.1 in /usr/local/lib/python3.6/dist-packages (from requests->pytrends==4.4.0) (1.22)\n",
            "Requirement already satisfied, skipping upgrade: idna<2.7,>=2.5 in /usr/local/lib/python3.6/dist-packages (from requests->pytrends==4.4.0) (2.6)\n",
            "Requirement already satisfied, skipping upgrade: python-dateutil>=2 in /usr/local/lib/python3.6/dist-packages (from pandas->pytrends==4.4.0) (2.5.3)\n",
            "Requirement already satisfied, skipping upgrade: numpy>=1.9.0 in /usr/local/lib/python3.6/dist-packages (from pandas->pytrends==4.4.0) (1.14.5)\n",
            "Requirement already satisfied, skipping upgrade: pytz>=2011k in /usr/local/lib/python3.6/dist-packages (from pandas->pytrends==4.4.0) (2018.5)\n",
            "Requirement already satisfied, skipping upgrade: six>=1.5 in /usr/local/lib/python3.6/dist-packages (from python-dateutil>=2->pandas->pytrends==4.4.0) (1.11.0)\n",
            "Building wheels for collected packages: pytrends\n",
            "  Running setup.py bdist_wheel for pytrends ... \u001b[?25l-\b \bdone\n",
            "\u001b[?25h  Stored in directory: /tmp/pip-ephem-wheel-cache-qc3inqb6/wheels/f6/49/f7/a4785ff2079f1cc793186a60d40863c5d4ee9863e2b315a0bd\n",
            "Successfully built pytrends\n",
            "Installing collected packages: lxml, pytrends\n",
            "Successfully installed lxml-4.2.4 pytrends-4.4.0\n",
            "Requirement already satisfied: lxml in /usr/local/lib/python3.6/dist-packages (4.2.4)\n"
          ],
          "name": "stdout"
        }
      ]
    },
    {
      "metadata": {
        "id": "54N_Ljw4hebY",
        "colab_type": "code",
        "colab": {}
      },
      "cell_type": "code",
      "source": [
        "get_gts('2016-08-01', '2016-08-31')"
      ],
      "execution_count": 0,
      "outputs": []
    },
    {
      "metadata": {
        "id": "jeH6L3o3iBhj",
        "colab_type": "code",
        "colab": {}
      },
      "cell_type": "code",
      "source": [
        "get_gts('2016-09-01', '2016-09-30')\n",
        "get_gts('2016-10-01', '2016-10-31')\n",
        "get_gts('2016-11-01', '2016-11-30')\n",
        "get_gts('2016-12-01', '2016-12-31')"
      ],
      "execution_count": 0,
      "outputs": []
    },
    {
      "metadata": {
        "id": "c2IXz4-4l_o_",
        "colab_type": "code",
        "colab": {}
      },
      "cell_type": "code",
      "source": [
        "#get_gts('2017-04-01', '2017-04-30')\n",
        "#get_gts('2017-05-01', '2017-05-31')\n",
        "#get_gts('2017-06-01', '2017-06-30')\n",
        "#get_gts('2017-07-01', '2017-07-31')\n",
        "#get_gts('2017-08-01', '2017-08-31')\n",
        "#get_gts('2017-09-01', '2017-09-30')\n",
        "#get_gts('2017-10-01', '2017-10-31')\n",
        "#get_gts('2017-11-01', '2017-11-30')\n",
        "get_gts('2017-12-01', '2017-12-31')"
      ],
      "execution_count": 0,
      "outputs": []
    },
    {
      "metadata": {
        "id": "G4Jt4zXB0QWQ",
        "colab_type": "code",
        "colab": {
          "base_uri": "https://localhost:8080/",
          "height": 34
        },
        "outputId": "bcb27671-55fa-4f79-8228-c6c604ac5394"
      },
      "cell_type": "code",
      "source": [
        "!ls"
      ],
      "execution_count": 3,
      "outputs": [
        {
          "output_type": "stream",
          "text": [
            "gts_20171231.csv  sample_data\n"
          ],
          "name": "stdout"
        }
      ]
    },
    {
      "metadata": {
        "id": "NKOk5NQ2PU4W",
        "colab_type": "code",
        "colab": {}
      },
      "cell_type": "code",
      "source": [
        "from google.colab import files\n",
        "!cp gts*.csv drive/NBA_Data_Hackathon"
      ],
      "execution_count": 0,
      "outputs": []
    },
    {
      "metadata": {
        "id": "1mbauRGoP7Hd",
        "colab_type": "code",
        "colab": {}
      },
      "cell_type": "code",
      "source": [
        "#get_gts('2018-01-01', '2018-01-31')\n",
        "#get_gts('2018-02-01', '2018-02-28')\n",
        "#get_gts('2018-03-01', '2018-03-31')\n",
        "#get_gts('2018-04-01', '2018-04-30')\n",
        "#get_gts('2018-05-01', '2018-05-31')\n",
        "#get_gts('2018-06-01', '2018-06-30')\n",
        "#get_gts('2018-07-01', '2018-07-31')\n",
        "get_gts('2018-08-01', '2018-08-31')\n",
        "get_gts('2018-09-01', '2018-09-09')"
      ],
      "execution_count": 0,
      "outputs": []
    },
    {
      "metadata": {
        "id": "NYsoyxLztf1v",
        "colab_type": "code",
        "colab": {}
      },
      "cell_type": "code",
      "source": [
        "!cp gts*.csv drive/NBA_Data_Hackathon"
      ],
      "execution_count": 0,
      "outputs": []
    },
    {
      "metadata": {
        "id": "z1stExwwtqkw",
        "colab_type": "code",
        "colab": {
          "base_uri": "https://localhost:8080/",
          "height": 1337
        },
        "outputId": "6ff6f05e-23c6-4902-b352-ec0fb10796cf"
      },
      "cell_type": "code",
      "source": [
        "get_gts('2018-08-01', '2018-08-31')\n",
        "get_gts('2018-09-01', '2018-09-09')"
      ],
      "execution_count": 3,
      "outputs": [
        {
          "output_type": "stream",
          "text": [
            "Running for 2018-08-01 2018-08-01\n",
            "Running for 2018-08-02 2018-08-02\n",
            "Running for 2018-08-03 2018-08-03\n",
            "Running for 2018-08-04 2018-08-04\n",
            "Running for 2018-08-05 2018-08-05\n",
            "Running for 2018-08-06 2018-08-06\n",
            "Running for 2018-08-07 2018-08-07\n",
            "Running for 2018-08-08 2018-08-08\n",
            "Running for 2018-08-09 2018-08-09\n",
            "Running for 2018-08-10 2018-08-10\n",
            "Running for 2018-08-11 2018-08-11\n",
            "Running for 2018-08-12 2018-08-12\n",
            "Running for 2018-08-13 2018-08-13\n",
            "Running for 2018-08-14 2018-08-14\n",
            "Running for 2018-08-15 2018-08-15\n",
            "Running for 2018-08-16 2018-08-16\n",
            "Running for 2018-08-17 2018-08-17\n",
            "Running for 2018-08-18 2018-08-18\n",
            "Running for 2018-08-19 2018-08-19\n",
            "Running for 2018-08-20 2018-08-20\n",
            "Running for 2018-08-21 2018-08-21\n",
            "Running for 2018-08-22 2018-08-22\n",
            "Running for 2018-08-23 2018-08-23\n",
            "Running for 2018-08-24 2018-08-24\n",
            "Running for 2018-08-25 2018-08-25\n",
            "Running for 2018-08-26 2018-08-26\n",
            "Running for 2018-08-27 2018-08-27\n",
            "Running for 2018-08-28 2018-08-28\n",
            "Running for 2018-08-29 2018-08-29\n",
            "Running for 2018-08-30 2018-08-30\n",
            "Running for 2018-08-31 2018-08-31\n",
            "Running for 2018-09-01 2018-09-01\n",
            "Running for 2018-09-02 2018-09-02\n",
            "Running for 2018-09-03 2018-09-03\n",
            "Running for 2018-09-04 2018-09-04\n",
            "Running for 2018-09-05 2018-09-05\n",
            "Running for 2018-09-06 2018-09-06\n",
            "Running for 2018-09-07 2018-09-07\n",
            "Running for 2018-09-08 2018-09-08\n",
            "Running for 2018-09-09 2018-09-09\n"
          ],
          "name": "stdout"
        },
        {
          "output_type": "error",
          "ename": "IndexError",
          "evalue": "ignored",
          "traceback": [
            "\u001b[0;31m---------------------------------------------------------------------------\u001b[0m",
            "\u001b[0;31mIndexError\u001b[0m                                Traceback (most recent call last)",
            "\u001b[0;32m<ipython-input-3-bea73f801320>\u001b[0m in \u001b[0;36m<module>\u001b[0;34m()\u001b[0m\n\u001b[1;32m      1\u001b[0m \u001b[0mget_gts\u001b[0m\u001b[0;34m(\u001b[0m\u001b[0;34m'2018-08-01'\u001b[0m\u001b[0;34m,\u001b[0m \u001b[0;34m'2018-08-31'\u001b[0m\u001b[0;34m)\u001b[0m\u001b[0;34m\u001b[0m\u001b[0m\n\u001b[0;32m----> 2\u001b[0;31m \u001b[0mget_gts\u001b[0m\u001b[0;34m(\u001b[0m\u001b[0;34m'2018-09-01'\u001b[0m\u001b[0;34m,\u001b[0m \u001b[0;34m'2018-09-09'\u001b[0m\u001b[0;34m)\u001b[0m\u001b[0;34m\u001b[0m\u001b[0m\n\u001b[0m",
            "\u001b[0;32m<ipython-input-2-7e9f690259a9>\u001b[0m in \u001b[0;36mget_gts\u001b[0;34m(start_date, end_date)\u001b[0m\n\u001b[1;32m     42\u001b[0m             \u001b[0;32mfor\u001b[0m \u001b[0mt\u001b[0m \u001b[0;32min\u001b[0m \u001b[0mdft\u001b[0m\u001b[0;34m.\u001b[0m\u001b[0mcolumns\u001b[0m\u001b[0;34m.\u001b[0m\u001b[0mvalues\u001b[0m\u001b[0;34m:\u001b[0m\u001b[0;34m\u001b[0m\u001b[0m\n\u001b[1;32m     43\u001b[0m                 \u001b[0;32mif\u001b[0m \u001b[0mt\u001b[0m \u001b[0;32mnot\u001b[0m \u001b[0;32min\u001b[0m \u001b[0;34m[\u001b[0m\u001b[0;34m'isPartial'\u001b[0m\u001b[0;34m,\u001b[0m \u001b[0;34m'date'\u001b[0m\u001b[0;34m]\u001b[0m\u001b[0;34m:\u001b[0m\u001b[0;34m\u001b[0m\u001b[0m\n\u001b[0;32m---> 44\u001b[0;31m                     \u001b[0mgts\u001b[0m \u001b[0;34m=\u001b[0m \u001b[0mdft\u001b[0m\u001b[0;34m[\u001b[0m\u001b[0mt\u001b[0m\u001b[0;34m]\u001b[0m\u001b[0;34m.\u001b[0m\u001b[0miloc\u001b[0m\u001b[0;34m[\u001b[0m\u001b[0;36m0\u001b[0m\u001b[0;34m]\u001b[0m\u001b[0;34m\u001b[0m\u001b[0m\n\u001b[0m\u001b[1;32m     45\u001b[0m                     \u001b[0mteam_gts_dict\u001b[0m\u001b[0;34m[\u001b[0m\u001b[0mday\u001b[0m\u001b[0;34m]\u001b[0m\u001b[0;34m[\u001b[0m\u001b[0mt\u001b[0m\u001b[0;34m]\u001b[0m \u001b[0;34m=\u001b[0m \u001b[0mgts\u001b[0m\u001b[0;34m\u001b[0m\u001b[0m\n\u001b[1;32m     46\u001b[0m \u001b[0;34m\u001b[0m\u001b[0m\n",
            "\u001b[0;32m/usr/local/lib/python3.6/dist-packages/pandas/core/indexing.py\u001b[0m in \u001b[0;36m__getitem__\u001b[0;34m(self, key)\u001b[0m\n\u001b[1;32m   1371\u001b[0m \u001b[0;34m\u001b[0m\u001b[0m\n\u001b[1;32m   1372\u001b[0m             \u001b[0mmaybe_callable\u001b[0m \u001b[0;34m=\u001b[0m \u001b[0mcom\u001b[0m\u001b[0;34m.\u001b[0m\u001b[0m_apply_if_callable\u001b[0m\u001b[0;34m(\u001b[0m\u001b[0mkey\u001b[0m\u001b[0;34m,\u001b[0m \u001b[0mself\u001b[0m\u001b[0;34m.\u001b[0m\u001b[0mobj\u001b[0m\u001b[0;34m)\u001b[0m\u001b[0;34m\u001b[0m\u001b[0m\n\u001b[0;32m-> 1373\u001b[0;31m             \u001b[0;32mreturn\u001b[0m \u001b[0mself\u001b[0m\u001b[0;34m.\u001b[0m\u001b[0m_getitem_axis\u001b[0m\u001b[0;34m(\u001b[0m\u001b[0mmaybe_callable\u001b[0m\u001b[0;34m,\u001b[0m \u001b[0maxis\u001b[0m\u001b[0;34m=\u001b[0m\u001b[0maxis\u001b[0m\u001b[0;34m)\u001b[0m\u001b[0;34m\u001b[0m\u001b[0m\n\u001b[0m\u001b[1;32m   1374\u001b[0m \u001b[0;34m\u001b[0m\u001b[0m\n\u001b[1;32m   1375\u001b[0m     \u001b[0;32mdef\u001b[0m \u001b[0m_is_scalar_access\u001b[0m\u001b[0;34m(\u001b[0m\u001b[0mself\u001b[0m\u001b[0;34m,\u001b[0m \u001b[0mkey\u001b[0m\u001b[0;34m)\u001b[0m\u001b[0;34m:\u001b[0m\u001b[0;34m\u001b[0m\u001b[0m\n",
            "\u001b[0;32m/usr/local/lib/python3.6/dist-packages/pandas/core/indexing.py\u001b[0m in \u001b[0;36m_getitem_axis\u001b[0;34m(self, key, axis)\u001b[0m\n\u001b[1;32m   1828\u001b[0m \u001b[0;34m\u001b[0m\u001b[0m\n\u001b[1;32m   1829\u001b[0m             \u001b[0;31m# validate the location\u001b[0m\u001b[0;34m\u001b[0m\u001b[0;34m\u001b[0m\u001b[0m\n\u001b[0;32m-> 1830\u001b[0;31m             \u001b[0mself\u001b[0m\u001b[0;34m.\u001b[0m\u001b[0m_is_valid_integer\u001b[0m\u001b[0;34m(\u001b[0m\u001b[0mkey\u001b[0m\u001b[0;34m,\u001b[0m \u001b[0maxis\u001b[0m\u001b[0;34m)\u001b[0m\u001b[0;34m\u001b[0m\u001b[0m\n\u001b[0m\u001b[1;32m   1831\u001b[0m \u001b[0;34m\u001b[0m\u001b[0m\n\u001b[1;32m   1832\u001b[0m             \u001b[0;32mreturn\u001b[0m \u001b[0mself\u001b[0m\u001b[0;34m.\u001b[0m\u001b[0m_get_loc\u001b[0m\u001b[0;34m(\u001b[0m\u001b[0mkey\u001b[0m\u001b[0;34m,\u001b[0m \u001b[0maxis\u001b[0m\u001b[0;34m=\u001b[0m\u001b[0maxis\u001b[0m\u001b[0;34m)\u001b[0m\u001b[0;34m\u001b[0m\u001b[0m\n",
            "\u001b[0;32m/usr/local/lib/python3.6/dist-packages/pandas/core/indexing.py\u001b[0m in \u001b[0;36m_is_valid_integer\u001b[0;34m(self, key, axis)\u001b[0m\n\u001b[1;32m   1711\u001b[0m         \u001b[0ml\u001b[0m \u001b[0;34m=\u001b[0m \u001b[0mlen\u001b[0m\u001b[0;34m(\u001b[0m\u001b[0max\u001b[0m\u001b[0;34m)\u001b[0m\u001b[0;34m\u001b[0m\u001b[0m\n\u001b[1;32m   1712\u001b[0m         \u001b[0;32mif\u001b[0m \u001b[0mkey\u001b[0m \u001b[0;34m>=\u001b[0m \u001b[0ml\u001b[0m \u001b[0;32mor\u001b[0m \u001b[0mkey\u001b[0m \u001b[0;34m<\u001b[0m \u001b[0;34m-\u001b[0m\u001b[0ml\u001b[0m\u001b[0;34m:\u001b[0m\u001b[0;34m\u001b[0m\u001b[0m\n\u001b[0;32m-> 1713\u001b[0;31m             \u001b[0;32mraise\u001b[0m \u001b[0mIndexError\u001b[0m\u001b[0;34m(\u001b[0m\u001b[0;34m\"single positional indexer is out-of-bounds\"\u001b[0m\u001b[0;34m)\u001b[0m\u001b[0;34m\u001b[0m\u001b[0m\n\u001b[0m\u001b[1;32m   1714\u001b[0m         \u001b[0;32mreturn\u001b[0m \u001b[0;32mTrue\u001b[0m\u001b[0;34m\u001b[0m\u001b[0m\n\u001b[1;32m   1715\u001b[0m \u001b[0;34m\u001b[0m\u001b[0m\n",
            "\u001b[0;31mIndexError\u001b[0m: single positional indexer is out-of-bounds"
          ]
        }
      ]
    },
    {
      "metadata": {
        "id": "VC0PYhEM0iKz",
        "colab_type": "code",
        "colab": {
          "base_uri": "https://localhost:8080/",
          "height": 34
        },
        "outputId": "ce54081c-f49f-42df-b946-1e9747d1b837"
      },
      "cell_type": "code",
      "source": [
        "!cp gts*.csv drive/NBA_Data_Hackathon"
      ],
      "execution_count": 4,
      "outputs": [
        {
          "output_type": "stream",
          "text": [
            "cp: cannot stat 'gts*.csv': No such file or directory\n"
          ],
          "name": "stdout"
        }
      ]
    },
    {
      "metadata": {
        "id": "Soe92w9m0m5P",
        "colab_type": "code",
        "colab": {}
      },
      "cell_type": "code",
      "source": [
        "import glob"
      ],
      "execution_count": 0,
      "outputs": []
    },
    {
      "metadata": {
        "id": "LmYgRoRB7owd",
        "colab_type": "code",
        "colab": {}
      },
      "cell_type": "code",
      "source": [
        "datafiles = sorted(glob.glob('drive/NBA_Data_Hackathon/gts_*.csv'))"
      ],
      "execution_count": 0,
      "outputs": []
    },
    {
      "metadata": {
        "id": "7AVKjT0372OG",
        "colab_type": "code",
        "colab": {
          "base_uri": "https://localhost:8080/",
          "height": 561
        },
        "outputId": "b8e498f7-cfcf-4371-938a-de46fc366395"
      },
      "cell_type": "code",
      "source": [
        "datafiles"
      ],
      "execution_count": 7,
      "outputs": [
        {
          "output_type": "execute_result",
          "data": {
            "text/plain": [
              "['drive/NBA_Data_Hackathon/gts_20160131.csv',\n",
              " 'drive/NBA_Data_Hackathon/gts_20160229.csv',\n",
              " 'drive/NBA_Data_Hackathon/gts_20160331.csv',\n",
              " 'drive/NBA_Data_Hackathon/gts_20160430.csv',\n",
              " 'drive/NBA_Data_Hackathon/gts_20160531.csv',\n",
              " 'drive/NBA_Data_Hackathon/gts_20160630.csv',\n",
              " 'drive/NBA_Data_Hackathon/gts_20160731.csv',\n",
              " 'drive/NBA_Data_Hackathon/gts_20160831.csv',\n",
              " 'drive/NBA_Data_Hackathon/gts_20160930.csv',\n",
              " 'drive/NBA_Data_Hackathon/gts_20161031.csv',\n",
              " 'drive/NBA_Data_Hackathon/gts_20161130.csv',\n",
              " 'drive/NBA_Data_Hackathon/gts_20161231.csv',\n",
              " 'drive/NBA_Data_Hackathon/gts_20170131.csv',\n",
              " 'drive/NBA_Data_Hackathon/gts_20170228.csv',\n",
              " 'drive/NBA_Data_Hackathon/gts_20170331.csv',\n",
              " 'drive/NBA_Data_Hackathon/gts_20170430.csv',\n",
              " 'drive/NBA_Data_Hackathon/gts_20170531.csv',\n",
              " 'drive/NBA_Data_Hackathon/gts_20170630.csv',\n",
              " 'drive/NBA_Data_Hackathon/gts_20170731.csv',\n",
              " 'drive/NBA_Data_Hackathon/gts_20170831.csv',\n",
              " 'drive/NBA_Data_Hackathon/gts_20170930.csv',\n",
              " 'drive/NBA_Data_Hackathon/gts_20171031.csv',\n",
              " 'drive/NBA_Data_Hackathon/gts_20171130.csv',\n",
              " 'drive/NBA_Data_Hackathon/gts_20171231.csv',\n",
              " 'drive/NBA_Data_Hackathon/gts_20180131.csv',\n",
              " 'drive/NBA_Data_Hackathon/gts_20180228.csv',\n",
              " 'drive/NBA_Data_Hackathon/gts_20180331.csv',\n",
              " 'drive/NBA_Data_Hackathon/gts_20180430.csv',\n",
              " 'drive/NBA_Data_Hackathon/gts_20180531.csv',\n",
              " 'drive/NBA_Data_Hackathon/gts_20180630.csv',\n",
              " 'drive/NBA_Data_Hackathon/gts_20180731.csv',\n",
              " 'drive/NBA_Data_Hackathon/gts_20180831.csv']"
            ]
          },
          "metadata": {
            "tags": []
          },
          "execution_count": 7
        }
      ]
    },
    {
      "metadata": {
        "id": "06UIXQlr73eH",
        "colab_type": "code",
        "colab": {}
      },
      "cell_type": "code",
      "source": [
        "dfgts = pd.DataFrame()\n",
        "for i in range(len(datafiles)):\n",
        "  dftmp = pd.read_csv(datafiles[i])\n",
        "  dfgts = dfgts.append(dftmp)"
      ],
      "execution_count": 0,
      "outputs": []
    },
    {
      "metadata": {
        "id": "ofWHuG6o8Ku5",
        "colab_type": "code",
        "colab": {
          "base_uri": "https://localhost:8080/",
          "height": 34
        },
        "outputId": "5ad110cc-7980-4bc4-dd0b-c0e2b341c60d"
      },
      "cell_type": "code",
      "source": [
        "dfgts.shape"
      ],
      "execution_count": 10,
      "outputs": [
        {
          "output_type": "execute_result",
          "data": {
            "text/plain": [
              "(29220, 3)"
            ]
          },
          "metadata": {
            "tags": []
          },
          "execution_count": 10
        }
      ]
    },
    {
      "metadata": {
        "id": "zugOTLLB8h_7",
        "colab_type": "code",
        "colab": {
          "base_uri": "https://localhost:8080/",
          "height": 204
        },
        "outputId": "6d77b98a-f49d-4a5c-c5ac-c2cdcb3c6d9e"
      },
      "cell_type": "code",
      "source": [
        "dfgts.head()"
      ],
      "execution_count": 11,
      "outputs": [
        {
          "output_type": "execute_result",
          "data": {
            "text/html": [
              "<div>\n",
              "<style scoped>\n",
              "    .dataframe tbody tr th:only-of-type {\n",
              "        vertical-align: middle;\n",
              "    }\n",
              "\n",
              "    .dataframe tbody tr th {\n",
              "        vertical-align: top;\n",
              "    }\n",
              "\n",
              "    .dataframe thead th {\n",
              "        text-align: right;\n",
              "    }\n",
              "</style>\n",
              "<table border=\"1\" class=\"dataframe\">\n",
              "  <thead>\n",
              "    <tr style=\"text-align: right;\">\n",
              "      <th></th>\n",
              "      <th>date</th>\n",
              "      <th>team</th>\n",
              "      <th>gts</th>\n",
              "    </tr>\n",
              "  </thead>\n",
              "  <tbody>\n",
              "    <tr>\n",
              "      <th>0</th>\n",
              "      <td>2016-01-01</td>\n",
              "      <td>Atlanta Hawks</td>\n",
              "      <td>24</td>\n",
              "    </tr>\n",
              "    <tr>\n",
              "      <th>1</th>\n",
              "      <td>2016-01-02</td>\n",
              "      <td>Atlanta Hawks</td>\n",
              "      <td>11</td>\n",
              "    </tr>\n",
              "    <tr>\n",
              "      <th>2</th>\n",
              "      <td>2016-01-03</td>\n",
              "      <td>Atlanta Hawks</td>\n",
              "      <td>24</td>\n",
              "    </tr>\n",
              "    <tr>\n",
              "      <th>3</th>\n",
              "      <td>2016-01-04</td>\n",
              "      <td>Atlanta Hawks</td>\n",
              "      <td>18</td>\n",
              "    </tr>\n",
              "    <tr>\n",
              "      <th>4</th>\n",
              "      <td>2016-01-05</td>\n",
              "      <td>Atlanta Hawks</td>\n",
              "      <td>31</td>\n",
              "    </tr>\n",
              "  </tbody>\n",
              "</table>\n",
              "</div>"
            ],
            "text/plain": [
              "         date           team  gts\n",
              "0  2016-01-01  Atlanta Hawks   24\n",
              "1  2016-01-02  Atlanta Hawks   11\n",
              "2  2016-01-03  Atlanta Hawks   24\n",
              "3  2016-01-04  Atlanta Hawks   18\n",
              "4  2016-01-05  Atlanta Hawks   31"
            ]
          },
          "metadata": {
            "tags": []
          },
          "execution_count": 11
        }
      ]
    },
    {
      "metadata": {
        "id": "8ioO_MCI8kNP",
        "colab_type": "code",
        "colab": {}
      },
      "cell_type": "code",
      "source": [
        "dfgts_sorted = dfgts.sort_values(by=['date', 'team'], ascending=True).reset_index()"
      ],
      "execution_count": 0,
      "outputs": []
    },
    {
      "metadata": {
        "id": "utfSJRyR8sAe",
        "colab_type": "code",
        "colab": {}
      },
      "cell_type": "code",
      "source": [
        "dfgts_sorted.to_csv('drive/NBA_Data_Hackathon/NBA_gts_161718.csv', index=None)"
      ],
      "execution_count": 0,
      "outputs": []
    },
    {
      "metadata": {
        "id": "MQsDezLN8vaF",
        "colab_type": "code",
        "colab": {}
      },
      "cell_type": "code",
      "source": [
        ""
      ],
      "execution_count": 0,
      "outputs": []
    }
  ]
}